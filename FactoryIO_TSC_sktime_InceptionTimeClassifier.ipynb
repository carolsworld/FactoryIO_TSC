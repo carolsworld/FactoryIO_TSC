{
  "nbformat": 4,
  "nbformat_minor": 0,
  "metadata": {
    "colab": {
      "provenance": [],
      "authorship_tag": "ABX9TyPdFuXJ+nQcicDd8kpl23Xo",
      "include_colab_link": true
    },
    "kernelspec": {
      "name": "python3",
      "display_name": "Python 3"
    },
    "language_info": {
      "name": "python"
    }
  },
  "cells": [
    {
      "cell_type": "markdown",
      "metadata": {
        "id": "view-in-github",
        "colab_type": "text"
      },
      "source": [
        "<a href=\"https://colab.research.google.com/github/carolsworld/FactoryIO_TSC/blob/main/FactoryIO_TSC_sktime_InceptionTimeClassifier.ipynb\" target=\"_parent\"><img src=\"https://colab.research.google.com/assets/colab-badge.svg\" alt=\"Open In Colab\"/></a>"
      ]
    },
    {
      "cell_type": "markdown",
      "source": [
        "**Demonstration of using datasets generated multivariate time series data from Factory I/O 3D simulation for developing multi-class Time Series Classification Model for *Threat Detection* using *a InceptionTimeClassifier* in sktime (deep learning) library**"
      ],
      "metadata": {
        "id": "DYpe7-R6G2pk"
      }
    },
    {
      "cell_type": "markdown",
      "source": [
        "# Background"
      ],
      "metadata": {
        "id": "cmYyiv_YE2fk"
      }
    },
    {
      "cell_type": "markdown",
      "source": [
        "We have identified 10 different scenarios in the Factory I/O scene. It could be a normal scenarios or threat scenarios.\n",
        "\n",
        "For each scenario, we have carried out 10 simulation runs (i.e. 10 instances). Therefore, there are tototally 100 simulation instances in the csv dataset. Each simulation run has 60 second of simulation.\n",
        "\n",
        "During the simulation run, we used the Web API of Factory I/O to collect data. Each instance contain 119 timepoints (timepoints from value '0' to value '118'). Therefore, the number of row in the csv dataset is 119 * 100 = 11,900 rows."
      ],
      "metadata": {
        "id": "EQpJDggkEgtM"
      }
    },
    {
      "cell_type": "markdown",
      "source": [
        "\n",
        "The scenario (being the label (y) to be predicted) include:\n",
        "\n",
        "*   Label #1 - 'Sensors_NormalSpeed': use potentiometer with normal conveyor speed.\n",
        "*   Label #2 - 'Sensors_TooSlowOrStop':use potentiometer with conveyor speed too slow or stopped.\n",
        "*   Label #3 - 'Sensors_Oscillate': use potentiometer with conveyor speed up and down illogically.\n",
        "*   Label #4 - 'Sensors_WrongDirection': use potentiometer with conveyor going the reverse direction.\n",
        "*   Label #5 - 'ForcedActuator_Normal': force actuator value with normal conveyor speed.\n",
        "*   Label #6 - 'ForcedActuator_TooSlowOrStop': force actuator value with conveyor speed too slow or stopped.\n",
        "*   Label #7 - 'ForcedActuator_TooFast': force actuator value with conveyor speed too fast.\n",
        "*   Label #8 - 'ForcedActuator_ExtremelyFast': force actuator value with conveyor speed extremely fast.\n",
        "*   Label #9 - 'ForcedActuator_Oscillate': force actuator value with conveyor speed up and down illogically.\n",
        "*   Label #10 - 'ForcedActuator_WrongDirection': force actuator value with conveyor going the reverse direction."
      ],
      "metadata": {
        "id": "EBohz0eFG06T"
      }
    },
    {
      "cell_type": "markdown",
      "source": [
        "To train the deep learning model to predict the scenario, not all the data captured from the Web API of Factory I/O are used. Instead, only the following features (X) are used for deep learning model training.\n",
        "\n",
        "Multi-variables are used for model training:\n",
        "*   'var_0': Potentiometer 0 (V) - the speed input affecting the conveyor speed (collected via Web API)\n",
        "*   'var_1': Q_Move Conveyor - the speed of the conveyor (collected via Web API)\n",
        "*   'var_2': Speed Display - the LED displaying the speed (collected via Web API)\n",
        "*   'var_3': Speed Change - the change of speed comparing the previous and current timepoints, i.e. change of speed in every 0.5 second (calculated by python script during real-time simulation)\n",
        "*   'var_4': Acceleration Indicator - check if the speed is accelerating, decelerating, constant or illogically speeding up or down based on past 15 seconds in the speed history (calculated by python script during real-time simulation)\n",
        "*   'var_5': Actual Conveyor Status - based on the value of Q_Move Conveyor to design which category the simulation is falling into:\n",
        "\n",
        "> Q_Move Conveyor with -5 < speed < 0: 'conveyor wrong direction'\n",
        "\n",
        "> Q_Move Conveyor with speed == 0: 'conveyor stop'\n",
        "\n",
        "> Q_Move Conveyor with 0 < speed <= 2.30: 'conveyor too slow'\n",
        "\n",
        "> Q_Move Conveyor with 2.31 < speed <= 5.00: 'normal conveying speed'\n",
        "\n",
        "> Q_Move Conveyor with 5.01 < speed <= 7.00: 'conveyor too fast'\n",
        "\n",
        "> Q_Move Conveyor with other values: 'abnormal'\n",
        "\n"
      ],
      "metadata": {
        "id": "5zSQqxYSEnR-"
      }
    },
    {
      "cell_type": "markdown",
      "source": [
        "# Step 1 - Upload dataset (csv file)"
      ],
      "metadata": {
        "id": "c8Ib-9xlBEY7"
      }
    },
    {
      "cell_type": "code",
      "source": [
        "# Upload your csv file and check the number of rows and columns in the pandas dataframe\n",
        "from google.colab import files\n",
        "import io\n",
        "import pandas as pd\n",
        "\n",
        "uploaded = files.upload()\n",
        "\n",
        "filename = next(iter(uploaded))\n",
        "\n",
        "df = pd.read_csv(io.BytesIO(uploaded['factoryiodata.csv']))\n",
        "\n",
        "print(\"The number of rows and columns in the csv file: \", df.shape)"
      ],
      "metadata": {
        "colab": {
          "base_uri": "https://localhost:8080/",
          "height": 90
        },
        "id": "0Yjc_GgLt0Wm",
        "outputId": "4753fdf1-9d9e-4485-ad64-d8a30e870045"
      },
      "execution_count": 1,
      "outputs": [
        {
          "output_type": "display_data",
          "data": {
            "text/plain": [
              "<IPython.core.display.HTML object>"
            ],
            "text/html": [
              "\n",
              "     <input type=\"file\" id=\"files-fe0a626a-5924-40ee-a84e-895a35ed210f\" name=\"files[]\" multiple disabled\n",
              "        style=\"border:none\" />\n",
              "     <output id=\"result-fe0a626a-5924-40ee-a84e-895a35ed210f\">\n",
              "      Upload widget is only available when the cell has been executed in the\n",
              "      current browser session. Please rerun this cell to enable.\n",
              "      </output>\n",
              "      <script>// Copyright 2017 Google LLC\n",
              "//\n",
              "// Licensed under the Apache License, Version 2.0 (the \"License\");\n",
              "// you may not use this file except in compliance with the License.\n",
              "// You may obtain a copy of the License at\n",
              "//\n",
              "//      http://www.apache.org/licenses/LICENSE-2.0\n",
              "//\n",
              "// Unless required by applicable law or agreed to in writing, software\n",
              "// distributed under the License is distributed on an \"AS IS\" BASIS,\n",
              "// WITHOUT WARRANTIES OR CONDITIONS OF ANY KIND, either express or implied.\n",
              "// See the License for the specific language governing permissions and\n",
              "// limitations under the License.\n",
              "\n",
              "/**\n",
              " * @fileoverview Helpers for google.colab Python module.\n",
              " */\n",
              "(function(scope) {\n",
              "function span(text, styleAttributes = {}) {\n",
              "  const element = document.createElement('span');\n",
              "  element.textContent = text;\n",
              "  for (const key of Object.keys(styleAttributes)) {\n",
              "    element.style[key] = styleAttributes[key];\n",
              "  }\n",
              "  return element;\n",
              "}\n",
              "\n",
              "// Max number of bytes which will be uploaded at a time.\n",
              "const MAX_PAYLOAD_SIZE = 100 * 1024;\n",
              "\n",
              "function _uploadFiles(inputId, outputId) {\n",
              "  const steps = uploadFilesStep(inputId, outputId);\n",
              "  const outputElement = document.getElementById(outputId);\n",
              "  // Cache steps on the outputElement to make it available for the next call\n",
              "  // to uploadFilesContinue from Python.\n",
              "  outputElement.steps = steps;\n",
              "\n",
              "  return _uploadFilesContinue(outputId);\n",
              "}\n",
              "\n",
              "// This is roughly an async generator (not supported in the browser yet),\n",
              "// where there are multiple asynchronous steps and the Python side is going\n",
              "// to poll for completion of each step.\n",
              "// This uses a Promise to block the python side on completion of each step,\n",
              "// then passes the result of the previous step as the input to the next step.\n",
              "function _uploadFilesContinue(outputId) {\n",
              "  const outputElement = document.getElementById(outputId);\n",
              "  const steps = outputElement.steps;\n",
              "\n",
              "  const next = steps.next(outputElement.lastPromiseValue);\n",
              "  return Promise.resolve(next.value.promise).then((value) => {\n",
              "    // Cache the last promise value to make it available to the next\n",
              "    // step of the generator.\n",
              "    outputElement.lastPromiseValue = value;\n",
              "    return next.value.response;\n",
              "  });\n",
              "}\n",
              "\n",
              "/**\n",
              " * Generator function which is called between each async step of the upload\n",
              " * process.\n",
              " * @param {string} inputId Element ID of the input file picker element.\n",
              " * @param {string} outputId Element ID of the output display.\n",
              " * @return {!Iterable<!Object>} Iterable of next steps.\n",
              " */\n",
              "function* uploadFilesStep(inputId, outputId) {\n",
              "  const inputElement = document.getElementById(inputId);\n",
              "  inputElement.disabled = false;\n",
              "\n",
              "  const outputElement = document.getElementById(outputId);\n",
              "  outputElement.innerHTML = '';\n",
              "\n",
              "  const pickedPromise = new Promise((resolve) => {\n",
              "    inputElement.addEventListener('change', (e) => {\n",
              "      resolve(e.target.files);\n",
              "    });\n",
              "  });\n",
              "\n",
              "  const cancel = document.createElement('button');\n",
              "  inputElement.parentElement.appendChild(cancel);\n",
              "  cancel.textContent = 'Cancel upload';\n",
              "  const cancelPromise = new Promise((resolve) => {\n",
              "    cancel.onclick = () => {\n",
              "      resolve(null);\n",
              "    };\n",
              "  });\n",
              "\n",
              "  // Wait for the user to pick the files.\n",
              "  const files = yield {\n",
              "    promise: Promise.race([pickedPromise, cancelPromise]),\n",
              "    response: {\n",
              "      action: 'starting',\n",
              "    }\n",
              "  };\n",
              "\n",
              "  cancel.remove();\n",
              "\n",
              "  // Disable the input element since further picks are not allowed.\n",
              "  inputElement.disabled = true;\n",
              "\n",
              "  if (!files) {\n",
              "    return {\n",
              "      response: {\n",
              "        action: 'complete',\n",
              "      }\n",
              "    };\n",
              "  }\n",
              "\n",
              "  for (const file of files) {\n",
              "    const li = document.createElement('li');\n",
              "    li.append(span(file.name, {fontWeight: 'bold'}));\n",
              "    li.append(span(\n",
              "        `(${file.type || 'n/a'}) - ${file.size} bytes, ` +\n",
              "        `last modified: ${\n",
              "            file.lastModifiedDate ? file.lastModifiedDate.toLocaleDateString() :\n",
              "                                    'n/a'} - `));\n",
              "    const percent = span('0% done');\n",
              "    li.appendChild(percent);\n",
              "\n",
              "    outputElement.appendChild(li);\n",
              "\n",
              "    const fileDataPromise = new Promise((resolve) => {\n",
              "      const reader = new FileReader();\n",
              "      reader.onload = (e) => {\n",
              "        resolve(e.target.result);\n",
              "      };\n",
              "      reader.readAsArrayBuffer(file);\n",
              "    });\n",
              "    // Wait for the data to be ready.\n",
              "    let fileData = yield {\n",
              "      promise: fileDataPromise,\n",
              "      response: {\n",
              "        action: 'continue',\n",
              "      }\n",
              "    };\n",
              "\n",
              "    // Use a chunked sending to avoid message size limits. See b/62115660.\n",
              "    let position = 0;\n",
              "    do {\n",
              "      const length = Math.min(fileData.byteLength - position, MAX_PAYLOAD_SIZE);\n",
              "      const chunk = new Uint8Array(fileData, position, length);\n",
              "      position += length;\n",
              "\n",
              "      const base64 = btoa(String.fromCharCode.apply(null, chunk));\n",
              "      yield {\n",
              "        response: {\n",
              "          action: 'append',\n",
              "          file: file.name,\n",
              "          data: base64,\n",
              "        },\n",
              "      };\n",
              "\n",
              "      let percentDone = fileData.byteLength === 0 ?\n",
              "          100 :\n",
              "          Math.round((position / fileData.byteLength) * 100);\n",
              "      percent.textContent = `${percentDone}% done`;\n",
              "\n",
              "    } while (position < fileData.byteLength);\n",
              "  }\n",
              "\n",
              "  // All done.\n",
              "  yield {\n",
              "    response: {\n",
              "      action: 'complete',\n",
              "    }\n",
              "  };\n",
              "}\n",
              "\n",
              "scope.google = scope.google || {};\n",
              "scope.google.colab = scope.google.colab || {};\n",
              "scope.google.colab._files = {\n",
              "  _uploadFiles,\n",
              "  _uploadFilesContinue,\n",
              "};\n",
              "})(self);\n",
              "</script> "
            ]
          },
          "metadata": {}
        },
        {
          "output_type": "stream",
          "name": "stdout",
          "text": [
            "Saving factoryiodata.csv to factoryiodata.csv\n",
            "The number of rows and columns in the csv file:  (11900, 9)\n"
          ]
        }
      ]
    },
    {
      "cell_type": "markdown",
      "source": [
        "100 instances with 119 timepoints for each instance, expected number of row is 11900."
      ],
      "metadata": {
        "id": "xYki4ju92cXf"
      }
    },
    {
      "cell_type": "code",
      "source": [
        "# Display the first few rows of the dataframe to check file format\n",
        "print(df.head())"
      ],
      "metadata": {
        "colab": {
          "base_uri": "https://localhost:8080/"
        },
        "id": "F2hcKIGHulSO",
        "outputId": "be1cecd1-961c-4847-f4d7-cf38b3f5236a"
      },
      "execution_count": 2,
      "outputs": [
        {
          "output_type": "stream",
          "name": "stdout",
          "text": [
            "   instances  timepoints  var_0  var_1  var_2  var_3  var_4  var_5  label\n",
            "0          1           0    0.0   10.0    0.0   10.0      2      6      8\n",
            "1          1           1    0.0   10.0    0.0    0.0      1      6      8\n",
            "2          1           2    0.0   10.0    0.0    0.0      1      6      8\n",
            "3          1           3    0.0   10.0    0.0    0.0      1      6      8\n",
            "4          1           4    0.0   10.0    0.0    0.0      1      6      8\n"
          ]
        }
      ]
    },
    {
      "cell_type": "markdown",
      "source": [
        "There are 9 columns as follows.\n",
        "*   'instance' is instance identifier. There are 100 instance in this dataset.\n",
        "*   'timepoints' is time series index for each instance. Every instance has 119 timepoints (from value '0' to value '118').\n",
        "*   'var_0' to ''var_5' are the raw data to learn\n",
        "*   'label' contains the labels of the instance\n"
      ],
      "metadata": {
        "id": "2oWAF7HUwgV0"
      }
    },
    {
      "cell_type": "markdown",
      "source": [
        "# Step 2 - Dataset preprocessing"
      ],
      "metadata": {
        "id": "CdBpJXBdBINR"
      }
    },
    {
      "cell_type": "code",
      "source": [
        "import numpy as np\n",
        "\n",
        "# Set the index for multi-indexing\n",
        "df = df.set_index(['instances', 'timepoints'])\n",
        "\n",
        "# Sort the dataframe if not already sorted\n",
        "df.sort_index(inplace=True)"
      ],
      "metadata": {
        "id": "vXMGBGGAt_eg"
      },
      "execution_count": 3,
      "outputs": []
    },
    {
      "cell_type": "code",
      "source": [
        "# Calculate the number of instances and timepoints\n",
        "num_instances = df.index.get_level_values(0).nunique()\n",
        "num_timepoints = df.index.get_level_values(1).nunique()"
      ],
      "metadata": {
        "id": "h02AiASkzBG7"
      },
      "execution_count": 4,
      "outputs": []
    },
    {
      "cell_type": "code",
      "source": [
        "print(\"Number of instances:\", num_instances)\n",
        "print(\"Number of timepoints:\", num_timepoints)"
      ],
      "metadata": {
        "colab": {
          "base_uri": "https://localhost:8080/"
        },
        "id": "hgyz8h9YSd2W",
        "outputId": "ed3a452f-b5e2-4b59-da01-c727e82ba29c"
      },
      "execution_count": 5,
      "outputs": [
        {
          "output_type": "stream",
          "name": "stdout",
          "text": [
            "Number of instances: 100\n",
            "Number of timepoints: 119\n"
          ]
        }
      ]
    },
    {
      "cell_type": "code",
      "source": [
        "# Drop the 'label' column to get the features\n",
        "X_features = df.drop(columns='label')"
      ],
      "metadata": {
        "id": "RrdUA3NAy61q"
      },
      "execution_count": 6,
      "outputs": []
    },
    {
      "cell_type": "code",
      "source": [
        "X_features"
      ],
      "metadata": {
        "colab": {
          "base_uri": "https://localhost:8080/",
          "height": 455
        },
        "id": "XmBEQniny8nk",
        "outputId": "c8ce6b1e-5935-4938-8bb7-504afc82ae46"
      },
      "execution_count": 7,
      "outputs": [
        {
          "output_type": "execute_result",
          "data": {
            "text/plain": [
              "                      var_0  var_1  var_2  var_3  var_4  var_5\n",
              "instances timepoints                                          \n",
              "1         0             0.0   10.0    0.0   10.0      2      6\n",
              "          1             0.0   10.0    0.0    0.0      1      6\n",
              "          2             0.0   10.0    0.0    0.0      1      6\n",
              "          3             0.0   10.0    0.0    0.0      1      6\n",
              "          4             0.0   10.0    0.0    0.0      1      6\n",
              "...                     ...    ...    ...    ...    ...    ...\n",
              "100       114          -5.0   -5.0   -5.0    0.0      1      6\n",
              "          115          -5.0   -5.0   -5.0    0.0      1      6\n",
              "          116          -5.0   -5.0   -5.0    0.0      1      6\n",
              "          117          -5.0   -5.0   -5.0    0.0      1      6\n",
              "          118          -5.0   -5.0   -5.0    0.0      1      6\n",
              "\n",
              "[11900 rows x 6 columns]"
            ],
            "text/html": [
              "\n",
              "  <div id=\"df-84e46066-f0b5-45ad-83c6-81dfc32417f7\" class=\"colab-df-container\">\n",
              "    <div>\n",
              "<style scoped>\n",
              "    .dataframe tbody tr th:only-of-type {\n",
              "        vertical-align: middle;\n",
              "    }\n",
              "\n",
              "    .dataframe tbody tr th {\n",
              "        vertical-align: top;\n",
              "    }\n",
              "\n",
              "    .dataframe thead th {\n",
              "        text-align: right;\n",
              "    }\n",
              "</style>\n",
              "<table border=\"1\" class=\"dataframe\">\n",
              "  <thead>\n",
              "    <tr style=\"text-align: right;\">\n",
              "      <th></th>\n",
              "      <th></th>\n",
              "      <th>var_0</th>\n",
              "      <th>var_1</th>\n",
              "      <th>var_2</th>\n",
              "      <th>var_3</th>\n",
              "      <th>var_4</th>\n",
              "      <th>var_5</th>\n",
              "    </tr>\n",
              "    <tr>\n",
              "      <th>instances</th>\n",
              "      <th>timepoints</th>\n",
              "      <th></th>\n",
              "      <th></th>\n",
              "      <th></th>\n",
              "      <th></th>\n",
              "      <th></th>\n",
              "      <th></th>\n",
              "    </tr>\n",
              "  </thead>\n",
              "  <tbody>\n",
              "    <tr>\n",
              "      <th rowspan=\"5\" valign=\"top\">1</th>\n",
              "      <th>0</th>\n",
              "      <td>0.0</td>\n",
              "      <td>10.0</td>\n",
              "      <td>0.0</td>\n",
              "      <td>10.0</td>\n",
              "      <td>2</td>\n",
              "      <td>6</td>\n",
              "    </tr>\n",
              "    <tr>\n",
              "      <th>1</th>\n",
              "      <td>0.0</td>\n",
              "      <td>10.0</td>\n",
              "      <td>0.0</td>\n",
              "      <td>0.0</td>\n",
              "      <td>1</td>\n",
              "      <td>6</td>\n",
              "    </tr>\n",
              "    <tr>\n",
              "      <th>2</th>\n",
              "      <td>0.0</td>\n",
              "      <td>10.0</td>\n",
              "      <td>0.0</td>\n",
              "      <td>0.0</td>\n",
              "      <td>1</td>\n",
              "      <td>6</td>\n",
              "    </tr>\n",
              "    <tr>\n",
              "      <th>3</th>\n",
              "      <td>0.0</td>\n",
              "      <td>10.0</td>\n",
              "      <td>0.0</td>\n",
              "      <td>0.0</td>\n",
              "      <td>1</td>\n",
              "      <td>6</td>\n",
              "    </tr>\n",
              "    <tr>\n",
              "      <th>4</th>\n",
              "      <td>0.0</td>\n",
              "      <td>10.0</td>\n",
              "      <td>0.0</td>\n",
              "      <td>0.0</td>\n",
              "      <td>1</td>\n",
              "      <td>6</td>\n",
              "    </tr>\n",
              "    <tr>\n",
              "      <th>...</th>\n",
              "      <th>...</th>\n",
              "      <td>...</td>\n",
              "      <td>...</td>\n",
              "      <td>...</td>\n",
              "      <td>...</td>\n",
              "      <td>...</td>\n",
              "      <td>...</td>\n",
              "    </tr>\n",
              "    <tr>\n",
              "      <th rowspan=\"5\" valign=\"top\">100</th>\n",
              "      <th>114</th>\n",
              "      <td>-5.0</td>\n",
              "      <td>-5.0</td>\n",
              "      <td>-5.0</td>\n",
              "      <td>0.0</td>\n",
              "      <td>1</td>\n",
              "      <td>6</td>\n",
              "    </tr>\n",
              "    <tr>\n",
              "      <th>115</th>\n",
              "      <td>-5.0</td>\n",
              "      <td>-5.0</td>\n",
              "      <td>-5.0</td>\n",
              "      <td>0.0</td>\n",
              "      <td>1</td>\n",
              "      <td>6</td>\n",
              "    </tr>\n",
              "    <tr>\n",
              "      <th>116</th>\n",
              "      <td>-5.0</td>\n",
              "      <td>-5.0</td>\n",
              "      <td>-5.0</td>\n",
              "      <td>0.0</td>\n",
              "      <td>1</td>\n",
              "      <td>6</td>\n",
              "    </tr>\n",
              "    <tr>\n",
              "      <th>117</th>\n",
              "      <td>-5.0</td>\n",
              "      <td>-5.0</td>\n",
              "      <td>-5.0</td>\n",
              "      <td>0.0</td>\n",
              "      <td>1</td>\n",
              "      <td>6</td>\n",
              "    </tr>\n",
              "    <tr>\n",
              "      <th>118</th>\n",
              "      <td>-5.0</td>\n",
              "      <td>-5.0</td>\n",
              "      <td>-5.0</td>\n",
              "      <td>0.0</td>\n",
              "      <td>1</td>\n",
              "      <td>6</td>\n",
              "    </tr>\n",
              "  </tbody>\n",
              "</table>\n",
              "<p>11900 rows × 6 columns</p>\n",
              "</div>\n",
              "    <div class=\"colab-df-buttons\">\n",
              "\n",
              "  <div class=\"colab-df-container\">\n",
              "    <button class=\"colab-df-convert\" onclick=\"convertToInteractive('df-84e46066-f0b5-45ad-83c6-81dfc32417f7')\"\n",
              "            title=\"Convert this dataframe to an interactive table.\"\n",
              "            style=\"display:none;\">\n",
              "\n",
              "  <svg xmlns=\"http://www.w3.org/2000/svg\" height=\"24px\" viewBox=\"0 -960 960 960\">\n",
              "    <path d=\"M120-120v-720h720v720H120Zm60-500h600v-160H180v160Zm220 220h160v-160H400v160Zm0 220h160v-160H400v160ZM180-400h160v-160H180v160Zm440 0h160v-160H620v160ZM180-180h160v-160H180v160Zm440 0h160v-160H620v160Z\"/>\n",
              "  </svg>\n",
              "    </button>\n",
              "\n",
              "  <style>\n",
              "    .colab-df-container {\n",
              "      display:flex;\n",
              "      gap: 12px;\n",
              "    }\n",
              "\n",
              "    .colab-df-convert {\n",
              "      background-color: #E8F0FE;\n",
              "      border: none;\n",
              "      border-radius: 50%;\n",
              "      cursor: pointer;\n",
              "      display: none;\n",
              "      fill: #1967D2;\n",
              "      height: 32px;\n",
              "      padding: 0 0 0 0;\n",
              "      width: 32px;\n",
              "    }\n",
              "\n",
              "    .colab-df-convert:hover {\n",
              "      background-color: #E2EBFA;\n",
              "      box-shadow: 0px 1px 2px rgba(60, 64, 67, 0.3), 0px 1px 3px 1px rgba(60, 64, 67, 0.15);\n",
              "      fill: #174EA6;\n",
              "    }\n",
              "\n",
              "    .colab-df-buttons div {\n",
              "      margin-bottom: 4px;\n",
              "    }\n",
              "\n",
              "    [theme=dark] .colab-df-convert {\n",
              "      background-color: #3B4455;\n",
              "      fill: #D2E3FC;\n",
              "    }\n",
              "\n",
              "    [theme=dark] .colab-df-convert:hover {\n",
              "      background-color: #434B5C;\n",
              "      box-shadow: 0px 1px 3px 1px rgba(0, 0, 0, 0.15);\n",
              "      filter: drop-shadow(0px 1px 2px rgba(0, 0, 0, 0.3));\n",
              "      fill: #FFFFFF;\n",
              "    }\n",
              "  </style>\n",
              "\n",
              "    <script>\n",
              "      const buttonEl =\n",
              "        document.querySelector('#df-84e46066-f0b5-45ad-83c6-81dfc32417f7 button.colab-df-convert');\n",
              "      buttonEl.style.display =\n",
              "        google.colab.kernel.accessAllowed ? 'block' : 'none';\n",
              "\n",
              "      async function convertToInteractive(key) {\n",
              "        const element = document.querySelector('#df-84e46066-f0b5-45ad-83c6-81dfc32417f7');\n",
              "        const dataTable =\n",
              "          await google.colab.kernel.invokeFunction('convertToInteractive',\n",
              "                                                    [key], {});\n",
              "        if (!dataTable) return;\n",
              "\n",
              "        const docLinkHtml = 'Like what you see? Visit the ' +\n",
              "          '<a target=\"_blank\" href=https://colab.research.google.com/notebooks/data_table.ipynb>data table notebook</a>'\n",
              "          + ' to learn more about interactive tables.';\n",
              "        element.innerHTML = '';\n",
              "        dataTable['output_type'] = 'display_data';\n",
              "        await google.colab.output.renderOutput(dataTable, element);\n",
              "        const docLink = document.createElement('div');\n",
              "        docLink.innerHTML = docLinkHtml;\n",
              "        element.appendChild(docLink);\n",
              "      }\n",
              "    </script>\n",
              "  </div>\n",
              "\n",
              "\n",
              "<div id=\"df-f48ef3bb-a53a-4e2c-b3dd-ad77244e6f70\">\n",
              "  <button class=\"colab-df-quickchart\" onclick=\"quickchart('df-f48ef3bb-a53a-4e2c-b3dd-ad77244e6f70')\"\n",
              "            title=\"Suggest charts\"\n",
              "            style=\"display:none;\">\n",
              "\n",
              "<svg xmlns=\"http://www.w3.org/2000/svg\" height=\"24px\"viewBox=\"0 0 24 24\"\n",
              "     width=\"24px\">\n",
              "    <g>\n",
              "        <path d=\"M19 3H5c-1.1 0-2 .9-2 2v14c0 1.1.9 2 2 2h14c1.1 0 2-.9 2-2V5c0-1.1-.9-2-2-2zM9 17H7v-7h2v7zm4 0h-2V7h2v10zm4 0h-2v-4h2v4z\"/>\n",
              "    </g>\n",
              "</svg>\n",
              "  </button>\n",
              "\n",
              "<style>\n",
              "  .colab-df-quickchart {\n",
              "      --bg-color: #E8F0FE;\n",
              "      --fill-color: #1967D2;\n",
              "      --hover-bg-color: #E2EBFA;\n",
              "      --hover-fill-color: #174EA6;\n",
              "      --disabled-fill-color: #AAA;\n",
              "      --disabled-bg-color: #DDD;\n",
              "  }\n",
              "\n",
              "  [theme=dark] .colab-df-quickchart {\n",
              "      --bg-color: #3B4455;\n",
              "      --fill-color: #D2E3FC;\n",
              "      --hover-bg-color: #434B5C;\n",
              "      --hover-fill-color: #FFFFFF;\n",
              "      --disabled-bg-color: #3B4455;\n",
              "      --disabled-fill-color: #666;\n",
              "  }\n",
              "\n",
              "  .colab-df-quickchart {\n",
              "    background-color: var(--bg-color);\n",
              "    border: none;\n",
              "    border-radius: 50%;\n",
              "    cursor: pointer;\n",
              "    display: none;\n",
              "    fill: var(--fill-color);\n",
              "    height: 32px;\n",
              "    padding: 0;\n",
              "    width: 32px;\n",
              "  }\n",
              "\n",
              "  .colab-df-quickchart:hover {\n",
              "    background-color: var(--hover-bg-color);\n",
              "    box-shadow: 0 1px 2px rgba(60, 64, 67, 0.3), 0 1px 3px 1px rgba(60, 64, 67, 0.15);\n",
              "    fill: var(--button-hover-fill-color);\n",
              "  }\n",
              "\n",
              "  .colab-df-quickchart-complete:disabled,\n",
              "  .colab-df-quickchart-complete:disabled:hover {\n",
              "    background-color: var(--disabled-bg-color);\n",
              "    fill: var(--disabled-fill-color);\n",
              "    box-shadow: none;\n",
              "  }\n",
              "\n",
              "  .colab-df-spinner {\n",
              "    border: 2px solid var(--fill-color);\n",
              "    border-color: transparent;\n",
              "    border-bottom-color: var(--fill-color);\n",
              "    animation:\n",
              "      spin 1s steps(1) infinite;\n",
              "  }\n",
              "\n",
              "  @keyframes spin {\n",
              "    0% {\n",
              "      border-color: transparent;\n",
              "      border-bottom-color: var(--fill-color);\n",
              "      border-left-color: var(--fill-color);\n",
              "    }\n",
              "    20% {\n",
              "      border-color: transparent;\n",
              "      border-left-color: var(--fill-color);\n",
              "      border-top-color: var(--fill-color);\n",
              "    }\n",
              "    30% {\n",
              "      border-color: transparent;\n",
              "      border-left-color: var(--fill-color);\n",
              "      border-top-color: var(--fill-color);\n",
              "      border-right-color: var(--fill-color);\n",
              "    }\n",
              "    40% {\n",
              "      border-color: transparent;\n",
              "      border-right-color: var(--fill-color);\n",
              "      border-top-color: var(--fill-color);\n",
              "    }\n",
              "    60% {\n",
              "      border-color: transparent;\n",
              "      border-right-color: var(--fill-color);\n",
              "    }\n",
              "    80% {\n",
              "      border-color: transparent;\n",
              "      border-right-color: var(--fill-color);\n",
              "      border-bottom-color: var(--fill-color);\n",
              "    }\n",
              "    90% {\n",
              "      border-color: transparent;\n",
              "      border-bottom-color: var(--fill-color);\n",
              "    }\n",
              "  }\n",
              "</style>\n",
              "\n",
              "  <script>\n",
              "    async function quickchart(key) {\n",
              "      const quickchartButtonEl =\n",
              "        document.querySelector('#' + key + ' button');\n",
              "      quickchartButtonEl.disabled = true;  // To prevent multiple clicks.\n",
              "      quickchartButtonEl.classList.add('colab-df-spinner');\n",
              "      try {\n",
              "        const charts = await google.colab.kernel.invokeFunction(\n",
              "            'suggestCharts', [key], {});\n",
              "      } catch (error) {\n",
              "        console.error('Error during call to suggestCharts:', error);\n",
              "      }\n",
              "      quickchartButtonEl.classList.remove('colab-df-spinner');\n",
              "      quickchartButtonEl.classList.add('colab-df-quickchart-complete');\n",
              "    }\n",
              "    (() => {\n",
              "      let quickchartButtonEl =\n",
              "        document.querySelector('#df-f48ef3bb-a53a-4e2c-b3dd-ad77244e6f70 button');\n",
              "      quickchartButtonEl.style.display =\n",
              "        google.colab.kernel.accessAllowed ? 'block' : 'none';\n",
              "    })();\n",
              "  </script>\n",
              "</div>\n",
              "    </div>\n",
              "  </div>\n"
            ],
            "application/vnd.google.colaboratory.intrinsic+json": {
              "type": "dataframe",
              "variable_name": "X_features",
              "summary": "{\n  \"name\": \"X_features\",\n  \"rows\": 11900,\n  \"fields\": [\n    {\n      \"column\": \"var_0\",\n      \"properties\": {\n        \"dtype\": \"number\",\n        \"std\": 1.8515572620515386,\n        \"min\": -5.0,\n        \"max\": 5.0,\n        \"num_unique_values\": 273,\n        \"samples\": [\n          -4.53,\n          0.57,\n          1.01\n        ],\n        \"semantic_type\": \"\",\n        \"description\": \"\"\n      }\n    },\n    {\n      \"column\": \"var_1\",\n      \"properties\": {\n        \"dtype\": \"number\",\n        \"std\": 4.3002126561861616,\n        \"min\": -10.0,\n        \"max\": 10.0,\n        \"num_unique_values\": 334,\n        \"samples\": [\n          -7.81,\n          3.95,\n          -1.25\n        ],\n        \"semantic_type\": \"\",\n        \"description\": \"\"\n      }\n    },\n    {\n      \"column\": \"var_2\",\n      \"properties\": {\n        \"dtype\": \"number\",\n        \"std\": 1.846072377032869,\n        \"min\": -5.0,\n        \"max\": 5.0,\n        \"num_unique_values\": 277,\n        \"samples\": [\n          -1.19,\n          -2.06,\n          2.84\n        ],\n        \"semantic_type\": \"\",\n        \"description\": \"\"\n      }\n    },\n    {\n      \"column\": \"var_3\",\n      \"properties\": {\n        \"dtype\": \"number\",\n        \"std\": 0.62168892712602,\n        \"min\": -10.0,\n        \"max\": 10.0,\n        \"num_unique_values\": 338,\n        \"samples\": [\n          5.02,\n          -3.0,\n          -1.76\n        ],\n        \"semantic_type\": \"\",\n        \"description\": \"\"\n      }\n    },\n    {\n      \"column\": \"var_4\",\n      \"properties\": {\n        \"dtype\": \"number\",\n        \"std\": 0,\n        \"min\": 1,\n        \"max\": 4,\n        \"num_unique_values\": 4,\n        \"samples\": [\n          1,\n          4,\n          2\n        ],\n        \"semantic_type\": \"\",\n        \"description\": \"\"\n      }\n    },\n    {\n      \"column\": \"var_5\",\n      \"properties\": {\n        \"dtype\": \"number\",\n        \"std\": 1,\n        \"min\": 1,\n        \"max\": 6,\n        \"num_unique_values\": 6,\n        \"samples\": [\n          6,\n          1,\n          2\n        ],\n        \"semantic_type\": \"\",\n        \"description\": \"\"\n      }\n    }\n  ]\n}"
            }
          },
          "metadata": {},
          "execution_count": 7
        }
      ]
    },
    {
      "cell_type": "code",
      "source": [
        "# Print the shapes\n",
        "print(\"Shape before reshaping:\", X_features.shape)\n",
        "print(\"Total expected size:\", num_instances * 6 * num_timepoints)"
      ],
      "metadata": {
        "colab": {
          "base_uri": "https://localhost:8080/"
        },
        "id": "-SDscXubzEo-",
        "outputId": "70c7377a-557e-4355-d138-fdc1c5d37a2a"
      },
      "execution_count": 8,
      "outputs": [
        {
          "output_type": "stream",
          "name": "stdout",
          "text": [
            "Shape before reshaping: (11900, 6)\n",
            "Total expected size: 71400\n"
          ]
        }
      ]
    },
    {
      "cell_type": "code",
      "source": [
        "# Split the data into features (X) and labels (y):\n",
        "# For this demonstration, there are 6 variables from var_0 to var_5.\n",
        "X = df.drop(columns='label').to_numpy().reshape(-1, 6, df.index.levels[1].size)\n",
        "y = df['label'].to_numpy()"
      ],
      "metadata": {
        "id": "DpEHwQ8hxeqr"
      },
      "execution_count": 9,
      "outputs": []
    },
    {
      "cell_type": "code",
      "source": [
        "# Ensure labels are unique per instance and not per time point\n",
        "# Reshape features (X) into a 3D numpy array\n",
        "_, idx = np.unique(df.index.get_level_values(0), return_index=True)\n",
        "y = y[idx]"
      ],
      "metadata": {
        "id": "6T50m8oEyFn7"
      },
      "execution_count": 10,
      "outputs": []
    },
    {
      "cell_type": "code",
      "source": [
        "X"
      ],
      "metadata": {
        "colab": {
          "base_uri": "https://localhost:8080/"
        },
        "id": "B3qw3BA4yUZP",
        "outputId": "8ce21b5b-9773-4b86-83cc-1a36c6ad2d85"
      },
      "execution_count": 11,
      "outputs": [
        {
          "output_type": "execute_result",
          "data": {
            "text/plain": [
              "array([[[ 0.  , 10.  ,  0.  , ...,  0.  ,  0.  ,  1.  ],\n",
              "        [ 6.  ,  0.  , 10.  , ..., 10.  ,  0.  ,  0.  ],\n",
              "        [ 1.  ,  6.  ,  0.  , ...,  0.  , 10.  ,  0.  ],\n",
              "        [ 0.  ,  1.  ,  6.  , ...,  6.  ,  0.  , 10.  ],\n",
              "        [ 0.  ,  0.  ,  1.  , ...,  1.  ,  6.  ,  0.  ],\n",
              "        [10.  ,  0.  ,  0.  , ...,  0.  ,  1.  ,  6.  ]],\n",
              "\n",
              "       [[ 0.  ,  7.19,  0.  , ...,  0.  ,  0.  ,  1.  ],\n",
              "        [ 6.  ,  0.  ,  7.19, ...,  7.19,  0.  ,  0.  ],\n",
              "        [ 1.  ,  6.  ,  0.  , ...,  0.  ,  7.19,  0.  ],\n",
              "        [ 0.  ,  1.  ,  6.  , ...,  6.  ,  0.  ,  7.19],\n",
              "        [ 0.  ,  0.  ,  1.  , ...,  1.  ,  6.  ,  0.  ],\n",
              "        [ 7.19,  0.  ,  0.  , ...,  0.  ,  1.  ,  6.  ]],\n",
              "\n",
              "       [[ 0.  ,  7.5 ,  0.  , ...,  0.  ,  0.  ,  1.  ],\n",
              "        [ 6.  ,  0.  ,  7.5 , ...,  7.5 ,  0.  ,  0.  ],\n",
              "        [ 1.  ,  6.  ,  0.  , ...,  0.  ,  7.5 ,  0.  ],\n",
              "        [ 0.  ,  1.  ,  6.  , ...,  6.  ,  0.  ,  7.5 ],\n",
              "        [ 0.  ,  0.  ,  1.  , ...,  1.  ,  6.  ,  0.  ],\n",
              "        [ 7.5 ,  0.  ,  0.  , ...,  0.  ,  1.  ,  6.  ]],\n",
              "\n",
              "       ...,\n",
              "\n",
              "       [[-4.31, -4.31, -4.31, ..., -4.31,  0.  ,  1.  ],\n",
              "        [ 5.  , -4.31, -4.31, ..., -4.31, -4.31,  0.  ],\n",
              "        [ 1.  ,  5.  , -4.31, ..., -4.31, -4.31, -4.31],\n",
              "        [ 0.  ,  1.  ,  5.  , ...,  5.  , -4.31, -4.31],\n",
              "        [-4.31,  0.  ,  1.  , ...,  1.  ,  5.  , -4.31],\n",
              "        [-4.31, -4.31,  0.  , ...,  0.  ,  1.  ,  5.  ]],\n",
              "\n",
              "       [[-4.58, -4.57, -4.57, ..., -4.57,  0.  ,  1.  ],\n",
              "        [ 5.  , -4.58, -4.57, ..., -4.57, -4.57,  0.  ],\n",
              "        [ 1.  ,  5.  , -4.58, ..., -4.58, -4.57, -4.57],\n",
              "        [ 0.  ,  1.  ,  5.  , ...,  5.  , -4.58, -4.57],\n",
              "        [-4.57,  0.  ,  1.  , ...,  1.  ,  5.  , -4.58],\n",
              "        [-4.57, -4.57,  0.  , ...,  0.  ,  1.  ,  5.  ]],\n",
              "\n",
              "       [[-5.  , -5.  , -5.  , ..., -5.  ,  0.  ,  1.  ],\n",
              "        [ 6.  , -5.  , -5.  , ..., -5.  , -5.  ,  0.  ],\n",
              "        [ 1.  ,  6.  , -5.  , ..., -5.  , -5.  , -5.  ],\n",
              "        [ 0.  ,  1.  ,  6.  , ...,  6.  , -5.  , -5.  ],\n",
              "        [-5.  ,  0.  ,  1.  , ...,  1.  ,  6.  , -5.  ],\n",
              "        [-5.  , -5.  ,  0.  , ...,  0.  ,  1.  ,  6.  ]]])"
            ]
          },
          "metadata": {},
          "execution_count": 11
        }
      ]
    },
    {
      "cell_type": "code",
      "source": [
        "X.shape"
      ],
      "metadata": {
        "colab": {
          "base_uri": "https://localhost:8080/"
        },
        "id": "S1xA0td54ols",
        "outputId": "300cb4a2-4778-4ac3-d0fe-dc8f158a3d65"
      },
      "execution_count": 12,
      "outputs": [
        {
          "output_type": "execute_result",
          "data": {
            "text/plain": [
              "(100, 6, 119)"
            ]
          },
          "metadata": {},
          "execution_count": 12
        }
      ]
    },
    {
      "cell_type": "markdown",
      "source": [
        "X is 3D array and should have the shape [number of samples, number of variables, sequence length].\n",
        "\n",
        "Each of the 100 instances is a 2D array of 6 variables over 119 timepoints"
      ],
      "metadata": {
        "id": "gYwhDTNC3ud4"
      }
    },
    {
      "cell_type": "code",
      "source": [
        "y"
      ],
      "metadata": {
        "colab": {
          "base_uri": "https://localhost:8080/"
        },
        "id": "779zN9rgySPJ",
        "outputId": "6b0de47f-d87f-478e-f011-511eafbe520e"
      },
      "execution_count": 13,
      "outputs": [
        {
          "output_type": "execute_result",
          "data": {
            "text/plain": [
              "array([ 8,  8,  8,  8,  8,  8,  8,  8,  8,  8,  5,  5,  5,  5,  5,  5,  5,\n",
              "        5,  5,  5,  9,  9,  9,  9,  9,  9,  9,  9,  9,  9,  7,  7,  7,  7,\n",
              "        7,  7,  7,  7,  7,  7,  6,  6,  6,  6,  6,  6,  6,  6,  6,  6, 10,\n",
              "       10, 10, 10, 10, 10, 10, 10, 10, 10,  1,  1,  1,  1,  1,  1,  1,  1,\n",
              "        1,  1,  3,  3,  3,  3,  3,  3,  3,  3,  3,  3,  2,  2,  2,  2,  2,\n",
              "        2,  2,  2,  2,  2,  4,  4,  4,  4,  4,  4,  4,  4,  4,  4])"
            ]
          },
          "metadata": {},
          "execution_count": 13
        }
      ]
    },
    {
      "cell_type": "code",
      "source": [
        "y.shape"
      ],
      "metadata": {
        "colab": {
          "base_uri": "https://localhost:8080/"
        },
        "id": "XV_XNuR-4rbO",
        "outputId": "3b0b416c-9bd9-4639-f6c4-8fbd3c762ee2"
      },
      "execution_count": 14,
      "outputs": [
        {
          "output_type": "execute_result",
          "data": {
            "text/plain": [
              "(100,)"
            ]
          },
          "metadata": {},
          "execution_count": 14
        }
      ]
    },
    {
      "cell_type": "markdown",
      "source": [
        "y is 1D numpy array with the shape [number of samples]."
      ],
      "metadata": {
        "id": "V9kWfwbQ4BPr"
      }
    },
    {
      "cell_type": "code",
      "source": [
        "# Split the data into a training set and a test set\n",
        "from sklearn.model_selection import train_test_split\n",
        "X_train, X_test, y_train, y_test = train_test_split(X, y, test_size=0.30, random_state=3, stratify=y)\n",
        "\n"
      ],
      "metadata": {
        "id": "wPCuaiZk8tzZ"
      },
      "execution_count": 15,
      "outputs": []
    },
    {
      "cell_type": "code",
      "source": [
        "X_train"
      ],
      "metadata": {
        "colab": {
          "base_uri": "https://localhost:8080/"
        },
        "id": "dzMb3n9b81x4",
        "outputId": "10acf0a5-f962-4ebd-a3c7-c6091aff6438"
      },
      "execution_count": 16,
      "outputs": [
        {
          "output_type": "execute_result",
          "data": {
            "text/plain": [
              "array([[[ 0.  ,  0.  ,  0.  , ...,  1.75, -0.86,  4.  ],\n",
              "        [ 3.  ,  1.75,  1.75, ...,  2.08,  2.08,  0.  ],\n",
              "        [ 1.  ,  3.  ,  2.09, ...,  2.09,  2.08,  2.08],\n",
              "        [ 0.  ,  1.  ,  3.  , ...,  3.  ,  2.09,  2.08],\n",
              "        [ 2.08,  0.  ,  1.  , ...,  1.  ,  3.  ,  2.09],\n",
              "        [ 2.08,  2.08,  0.  , ...,  0.  ,  1.  ,  3.  ]],\n",
              "\n",
              "       [[ 0.  ,  5.63,  0.  , ...,  0.  ,  0.  ,  1.  ],\n",
              "        [ 2.  ,  0.  ,  5.63, ...,  5.63,  0.  ,  0.  ],\n",
              "        [ 1.  ,  2.  ,  0.  , ...,  0.  ,  5.63,  0.  ],\n",
              "        [ 0.  ,  1.  ,  2.  , ...,  2.  ,  0.  ,  5.63],\n",
              "        [ 0.  ,  0.  ,  1.  , ...,  1.  ,  2.  ,  0.  ],\n",
              "        [ 5.63,  0.  ,  0.  , ...,  0.  ,  1.  ,  2.  ]],\n",
              "\n",
              "       [[ 4.42,  4.41,  4.41, ...,  4.41,  0.  ,  1.  ],\n",
              "        [ 1.  ,  4.42,  4.41, ...,  4.41,  4.41,  0.  ],\n",
              "        [ 1.  ,  1.  ,  4.42, ...,  4.42,  4.41,  4.41],\n",
              "        [ 0.  ,  1.  ,  1.  , ...,  1.  ,  4.42,  4.41],\n",
              "        [ 4.41,  0.  ,  1.  , ...,  1.  ,  1.  ,  4.42],\n",
              "        [ 4.41,  4.41,  0.  , ...,  0.  ,  1.  ,  1.  ]],\n",
              "\n",
              "       ...,\n",
              "\n",
              "       [[-2.58, -2.57, -2.57, ..., -2.57,  0.  ,  1.  ],\n",
              "        [ 5.  , -2.58, -2.57, ..., -2.57, -2.57,  0.  ],\n",
              "        [ 1.  ,  5.  , -2.58, ..., -2.58, -2.57, -2.57],\n",
              "        [ 0.  ,  1.  ,  5.  , ...,  5.  , -2.58, -2.57],\n",
              "        [-2.57,  0.  ,  1.  , ...,  1.  ,  5.  , -2.58],\n",
              "        [-2.57, -2.57,  0.  , ...,  0.  ,  1.  ,  5.  ]],\n",
              "\n",
              "       [[ 0.  ,  8.75,  0.  , ...,  0.  ,  0.  ,  1.  ],\n",
              "        [ 6.  ,  0.  ,  8.75, ...,  8.75,  0.  ,  0.  ],\n",
              "        [ 1.  ,  6.  ,  0.  , ...,  0.  ,  8.75,  0.  ],\n",
              "        [ 0.  ,  1.  ,  6.  , ...,  6.  ,  0.  ,  8.75],\n",
              "        [ 0.  ,  0.  ,  1.  , ...,  1.  ,  6.  ,  0.  ],\n",
              "        [ 8.75,  0.  ,  0.  , ...,  0.  ,  1.  ,  6.  ]],\n",
              "\n",
              "       [[ 0.  ,  0.  ,  0.  , ...,  0.  ,  0.  ,  1.  ],\n",
              "        [ 1.  ,  0.  ,  2.19, ...,  5.62,  0.  ,  0.  ],\n",
              "        [ 4.  ,  2.  ,  0.  , ...,  0.  ,  7.81,  0.  ],\n",
              "        [ 0.  ,  4.  ,  6.  , ...,  6.  ,  0.  ,  7.5 ],\n",
              "        [ 0.  ,  0.  ,  4.  , ...,  4.  ,  6.  ,  0.  ],\n",
              "        [ 7.19,  0.  ,  0.  , ...,  0.  ,  4.  ,  3.  ]]])"
            ]
          },
          "metadata": {},
          "execution_count": 16
        }
      ]
    },
    {
      "cell_type": "code",
      "source": [
        "X_test"
      ],
      "metadata": {
        "colab": {
          "base_uri": "https://localhost:8080/"
        },
        "id": "91qL0FxF834a",
        "outputId": "673f1908-25eb-45de-8b64-d97f9f0ef412"
      },
      "execution_count": 17,
      "outputs": [
        {
          "output_type": "execute_result",
          "data": {
            "text/plain": [
              "array([[[  4.59,   4.59,   4.59, ...,   4.59,   0.  ,   1.  ],\n",
              "        [  1.  ,   4.59,   4.59, ...,   4.59,   4.59,   0.  ],\n",
              "        [  1.  ,   1.  ,   4.59, ...,   4.59,   4.59,   4.59],\n",
              "        [  0.  ,   1.  ,   1.  , ...,   1.  ,   4.59,   4.59],\n",
              "        [  4.59,   0.  ,   1.  , ...,   1.  ,   1.  ,   4.59],\n",
              "        [  4.59,   4.59,   0.  , ...,   0.  ,   1.  ,   1.  ]],\n",
              "\n",
              "       [[  1.4 ,   1.39,   1.39, ...,   1.39,   0.  ,   1.  ],\n",
              "        [  3.  ,   1.4 ,   1.39, ...,   1.39,   1.39,   0.  ],\n",
              "        [  1.  ,   3.  ,   1.4 , ...,   1.4 ,   1.39,   1.39],\n",
              "        [  0.  ,   1.  ,   3.  , ...,   3.  ,   1.4 ,   1.39],\n",
              "        [  1.39,   0.  ,   1.  , ...,   1.  ,   3.  ,   1.4 ],\n",
              "        [  1.39,   1.39,   0.  , ...,   0.  ,   1.  ,   3.  ]],\n",
              "\n",
              "       [[  0.  ,  -2.5 ,   0.  , ...,   0.  ,   0.  ,   1.  ],\n",
              "        [  5.  ,   0.  ,  -2.5 , ...,  -2.5 ,   0.  ,   0.  ],\n",
              "        [  1.  ,   5.  ,   0.  , ...,   0.  ,  -2.5 ,   0.  ],\n",
              "        [  0.  ,   1.  ,   5.  , ...,   5.  ,   0.  ,  -2.5 ],\n",
              "        [  0.  ,   0.  ,   1.  , ...,   1.  ,   5.  ,   0.  ],\n",
              "        [ -2.5 ,   0.  ,   0.  , ...,   0.  ,   1.  ,   5.  ]],\n",
              "\n",
              "       ...,\n",
              "\n",
              "       [[  0.  ,   0.  ,   0.  , ...,   1.64,  -0.45,   3.  ],\n",
              "        [  3.  ,   1.52,   1.51, ...,   3.3 ,   3.3 ,   0.  ],\n",
              "        [  1.  ,   1.  ,   1.9 , ...,   1.91,   1.9 ,   1.9 ],\n",
              "        [  0.72,   2.  ,   3.  , ...,   3.  ,   1.31,   1.31],\n",
              "        [  1.31,   0.  ,   1.  , ...,   4.  ,   1.  ,   5.  ],\n",
              "        [  5.  ,   5.  ,   0.  , ...,   0.  ,   4.  ,   3.  ]],\n",
              "\n",
              "       [[ -0.73,  -0.73,  -0.73, ...,  -0.73,   0.  ,   1.  ],\n",
              "        [  5.  ,  -0.73,  -0.73, ...,  -0.73,  -0.73,   0.  ],\n",
              "        [  1.  ,   5.  ,  -0.73, ...,  -0.73,  -0.73,  -0.73],\n",
              "        [  0.  ,   1.  ,   5.  , ...,   5.  ,  -0.73,  -0.73],\n",
              "        [ -0.73,   0.  ,   1.  , ...,   1.  ,   5.  ,  -0.73],\n",
              "        [ -0.73,  -0.73,   0.  , ...,   0.  ,   1.  ,   5.  ]],\n",
              "\n",
              "       [[  0.  , -10.  ,   0.  , ...,   0.  ,   0.  ,   1.  ],\n",
              "        [  6.  ,   0.  , -10.  , ..., -10.  ,   0.  ,   0.  ],\n",
              "        [  1.  ,   6.  ,   0.  , ...,   0.  , -10.  ,   0.  ],\n",
              "        [  0.  ,   1.  ,   6.  , ...,   6.  ,   0.  , -10.  ],\n",
              "        [  0.  ,   0.  ,   1.  , ...,   1.  ,   6.  ,   0.  ],\n",
              "        [-10.  ,   0.  ,   0.  , ...,   0.  ,   1.  ,   6.  ]]])"
            ]
          },
          "metadata": {},
          "execution_count": 17
        }
      ]
    },
    {
      "cell_type": "code",
      "source": [
        "y_train"
      ],
      "metadata": {
        "colab": {
          "base_uri": "https://localhost:8080/"
        },
        "id": "HkvWFSbW86PI",
        "outputId": "317d83a2-c99f-4202-e513-0bc7d85c1699"
      },
      "execution_count": 18,
      "outputs": [
        {
          "output_type": "execute_result",
          "data": {
            "text/plain": [
              "array([ 3,  7,  1,  1,  6,  2,  4,  9, 10, 10,  5, 10,  1,  7,  6,  8,  9,\n",
              "        8,  8,  3,  9,  6,  2,  4, 10,  7,  1,  5,  6,  4,  2, 10,  5,  4,\n",
              "        3, 10,  6,  4,  1,  3,  7,  6,  1, 10,  5,  8,  3,  8,  7,  1,  2,\n",
              "        3,  9,  2,  3,  2,  9,  4,  8,  7,  5,  2,  7,  5,  5,  6,  9,  4,\n",
              "        8,  9])"
            ]
          },
          "metadata": {},
          "execution_count": 18
        }
      ]
    },
    {
      "cell_type": "code",
      "source": [
        "y_test"
      ],
      "metadata": {
        "colab": {
          "base_uri": "https://localhost:8080/"
        },
        "id": "ryggyviH889f",
        "outputId": "dde053d0-009e-4a0f-eac9-f3f88c55c6f3"
      },
      "execution_count": 19,
      "outputs": [
        {
          "output_type": "execute_result",
          "data": {
            "text/plain": [
              "array([ 1,  2, 10, 10,  7,  5,  5,  6,  2,  7,  2,  8,  4,  3,  4,  8,  6,\n",
              "        1,  8,  3,  1,  9,  6,  5,  7,  9,  9,  3,  4, 10])"
            ]
          },
          "metadata": {},
          "execution_count": 19
        }
      ]
    },
    {
      "cell_type": "markdown",
      "source": [
        "# Step 3 - Train the model"
      ],
      "metadata": {
        "id": "kpIDoyqlBZwS"
      }
    },
    {
      "cell_type": "code",
      "execution_count": 20,
      "metadata": {
        "id": "vPgM4MZ6HTrW",
        "colab": {
          "base_uri": "https://localhost:8080/"
        },
        "outputId": "0a836b2c-5ecc-4f8b-8e93-3509729835a9"
      },
      "outputs": [
        {
          "output_type": "stream",
          "name": "stdout",
          "text": [
            "Collecting sktime\n",
            "  Downloading sktime-0.27.0-py3-none-any.whl (21.9 MB)\n",
            "\u001b[2K     \u001b[90m━━━━━━━━━━━━━━━━━━━━━━━━━━━━━━━━━━━━━━━━\u001b[0m \u001b[32m21.9/21.9 MB\u001b[0m \u001b[31m19.7 MB/s\u001b[0m eta \u001b[36m0:00:00\u001b[0m\n",
            "\u001b[?25hRequirement already satisfied: numpy<1.27,>=1.21 in /usr/local/lib/python3.10/dist-packages (from sktime) (1.25.2)\n",
            "Requirement already satisfied: packaging in /usr/local/lib/python3.10/dist-packages (from sktime) (24.0)\n",
            "Requirement already satisfied: pandas<2.2.0,>=1.1 in /usr/local/lib/python3.10/dist-packages (from sktime) (1.5.3)\n",
            "Collecting scikit-base<0.8.0 (from sktime)\n",
            "  Downloading scikit_base-0.7.5-py3-none-any.whl (128 kB)\n",
            "\u001b[2K     \u001b[90m━━━━━━━━━━━━━━━━━━━━━━━━━━━━━━━━━━━━━━━━\u001b[0m \u001b[32m128.8/128.8 kB\u001b[0m \u001b[31m11.5 MB/s\u001b[0m eta \u001b[36m0:00:00\u001b[0m\n",
            "\u001b[?25hRequirement already satisfied: scikit-learn<1.5.0,>=0.24 in /usr/local/lib/python3.10/dist-packages (from sktime) (1.2.2)\n",
            "Requirement already satisfied: scipy<2.0.0,>=1.2 in /usr/local/lib/python3.10/dist-packages (from sktime) (1.11.4)\n",
            "Requirement already satisfied: python-dateutil>=2.8.1 in /usr/local/lib/python3.10/dist-packages (from pandas<2.2.0,>=1.1->sktime) (2.8.2)\n",
            "Requirement already satisfied: pytz>=2020.1 in /usr/local/lib/python3.10/dist-packages (from pandas<2.2.0,>=1.1->sktime) (2023.4)\n",
            "Requirement already satisfied: joblib>=1.1.1 in /usr/local/lib/python3.10/dist-packages (from scikit-learn<1.5.0,>=0.24->sktime) (1.3.2)\n",
            "Requirement already satisfied: threadpoolctl>=2.0.0 in /usr/local/lib/python3.10/dist-packages (from scikit-learn<1.5.0,>=0.24->sktime) (3.3.0)\n",
            "Requirement already satisfied: six>=1.5 in /usr/local/lib/python3.10/dist-packages (from python-dateutil>=2.8.1->pandas<2.2.0,>=1.1->sktime) (1.16.0)\n",
            "Installing collected packages: scikit-base, sktime\n",
            "Successfully installed scikit-base-0.7.5 sktime-0.27.0\n"
          ]
        }
      ],
      "source": [
        "# Install the sktime library\n",
        "!pip install sktime\n",
        "import sktime"
      ]
    },
    {
      "cell_type": "code",
      "source": [
        "# Check in memory type is correct for label y\n",
        "from sktime.datatypes import check_is_mtype\n",
        "check_is_mtype(y, mtype=\"np.ndarray\", return_metadata=True)"
      ],
      "metadata": {
        "colab": {
          "base_uri": "https://localhost:8080/"
        },
        "id": "6uNDKB0MlQmM",
        "outputId": "57a90208-27c5-431b-c9a0-f4739783b18a"
      },
      "execution_count": 21,
      "outputs": [
        {
          "output_type": "execute_result",
          "data": {
            "text/plain": [
              "(True,\n",
              " None,\n",
              " {'is_empty': False,\n",
              "  'is_univariate': True,\n",
              "  'n_features': 1,\n",
              "  'feature_names': [0],\n",
              "  'is_equally_spaced': True,\n",
              "  'has_nans': False,\n",
              "  'mtype': 'np.ndarray',\n",
              "  'scitype': 'Series'})"
            ]
          },
          "metadata": {},
          "execution_count": 21
        }
      ]
    },
    {
      "cell_type": "code",
      "source": [
        "import numpy as np\n",
        "import seaborn as sns\n",
        "\n",
        "from sktime.classification.deep_learning.inceptiontime import InceptionTimeClassifier\n",
        "\n",
        "sns.set_style(\"whitegrid\")"
      ],
      "metadata": {
        "id": "xl-rBAr1ngy-"
      },
      "execution_count": 22,
      "outputs": []
    },
    {
      "cell_type": "code",
      "source": [
        "# Initialize the LSTMFCNClassifier\n",
        "classifier = InceptionTimeClassifier()"
      ],
      "metadata": {
        "id": "z5z5vbaX7mxL"
      },
      "execution_count": 23,
      "outputs": []
    },
    {
      "cell_type": "code",
      "source": [
        "# Fit the classifier on the training data\n",
        "classifier.fit(X_train, y_train)"
      ],
      "metadata": {
        "colab": {
          "base_uri": "https://localhost:8080/",
          "height": 74
        },
        "id": "73pvrI4K9M1Z",
        "outputId": "9ed58967-d43b-416c-db75-42ffbd22b077"
      },
      "execution_count": 24,
      "outputs": [
        {
          "output_type": "execute_result",
          "data": {
            "text/plain": [
              "InceptionTimeClassifier()"
            ],
            "text/html": [
              "<style>#sk-3159d50e-4bc5-4c9d-ba55-b1500e4d2d5b {color: black;background-color: white;}#sk-3159d50e-4bc5-4c9d-ba55-b1500e4d2d5b pre{padding: 0;}#sk-3159d50e-4bc5-4c9d-ba55-b1500e4d2d5b div.sk-toggleable {background-color: white;}#sk-3159d50e-4bc5-4c9d-ba55-b1500e4d2d5b label.sk-toggleable__label {cursor: pointer;display: block;width: 100%;margin-bottom: 0;padding: 0.3em;box-sizing: border-box;text-align: center;}#sk-3159d50e-4bc5-4c9d-ba55-b1500e4d2d5b label.sk-toggleable__label-arrow:before {content: \"▸\";float: left;margin-right: 0.25em;color: #696969;}#sk-3159d50e-4bc5-4c9d-ba55-b1500e4d2d5b label.sk-toggleable__label-arrow:hover:before {color: black;}#sk-3159d50e-4bc5-4c9d-ba55-b1500e4d2d5b div.sk-estimator:hover label.sk-toggleable__label-arrow:before {color: black;}#sk-3159d50e-4bc5-4c9d-ba55-b1500e4d2d5b div.sk-toggleable__content {max-height: 0;max-width: 0;overflow: hidden;text-align: left;background-color: #f0f8ff;}#sk-3159d50e-4bc5-4c9d-ba55-b1500e4d2d5b div.sk-toggleable__content pre {margin: 0.2em;color: black;border-radius: 0.25em;background-color: #f0f8ff;}#sk-3159d50e-4bc5-4c9d-ba55-b1500e4d2d5b input.sk-toggleable__control:checked~div.sk-toggleable__content {max-height: 200px;max-width: 100%;overflow: auto;}#sk-3159d50e-4bc5-4c9d-ba55-b1500e4d2d5b input.sk-toggleable__control:checked~label.sk-toggleable__label-arrow:before {content: \"▾\";}#sk-3159d50e-4bc5-4c9d-ba55-b1500e4d2d5b div.sk-estimator input.sk-toggleable__control:checked~label.sk-toggleable__label {background-color: #d4ebff;}#sk-3159d50e-4bc5-4c9d-ba55-b1500e4d2d5b div.sk-label input.sk-toggleable__control:checked~label.sk-toggleable__label {background-color: #d4ebff;}#sk-3159d50e-4bc5-4c9d-ba55-b1500e4d2d5b input.sk-hidden--visually {border: 0;clip: rect(1px 1px 1px 1px);clip: rect(1px, 1px, 1px, 1px);height: 1px;margin: -1px;overflow: hidden;padding: 0;position: absolute;width: 1px;}#sk-3159d50e-4bc5-4c9d-ba55-b1500e4d2d5b div.sk-estimator {font-family: monospace;background-color: #f0f8ff;border: 1px dotted black;border-radius: 0.25em;box-sizing: border-box;margin-bottom: 0.5em;}#sk-3159d50e-4bc5-4c9d-ba55-b1500e4d2d5b div.sk-estimator:hover {background-color: #d4ebff;}#sk-3159d50e-4bc5-4c9d-ba55-b1500e4d2d5b div.sk-parallel-item::after {content: \"\";width: 100%;border-bottom: 1px solid gray;flex-grow: 1;}#sk-3159d50e-4bc5-4c9d-ba55-b1500e4d2d5b div.sk-label:hover label.sk-toggleable__label {background-color: #d4ebff;}#sk-3159d50e-4bc5-4c9d-ba55-b1500e4d2d5b div.sk-serial::before {content: \"\";position: absolute;border-left: 1px solid gray;box-sizing: border-box;top: 2em;bottom: 0;left: 50%;}#sk-3159d50e-4bc5-4c9d-ba55-b1500e4d2d5b div.sk-serial {display: flex;flex-direction: column;align-items: center;background-color: white;padding-right: 0.2em;padding-left: 0.2em;}#sk-3159d50e-4bc5-4c9d-ba55-b1500e4d2d5b div.sk-item {z-index: 1;}#sk-3159d50e-4bc5-4c9d-ba55-b1500e4d2d5b div.sk-parallel {display: flex;align-items: stretch;justify-content: center;background-color: white;}#sk-3159d50e-4bc5-4c9d-ba55-b1500e4d2d5b div.sk-parallel::before {content: \"\";position: absolute;border-left: 1px solid gray;box-sizing: border-box;top: 2em;bottom: 0;left: 50%;}#sk-3159d50e-4bc5-4c9d-ba55-b1500e4d2d5b div.sk-parallel-item {display: flex;flex-direction: column;position: relative;background-color: white;}#sk-3159d50e-4bc5-4c9d-ba55-b1500e4d2d5b div.sk-parallel-item:first-child::after {align-self: flex-end;width: 50%;}#sk-3159d50e-4bc5-4c9d-ba55-b1500e4d2d5b div.sk-parallel-item:last-child::after {align-self: flex-start;width: 50%;}#sk-3159d50e-4bc5-4c9d-ba55-b1500e4d2d5b div.sk-parallel-item:only-child::after {width: 0;}#sk-3159d50e-4bc5-4c9d-ba55-b1500e4d2d5b div.sk-dashed-wrapped {border: 1px dashed gray;margin: 0 0.4em 0.5em 0.4em;box-sizing: border-box;padding-bottom: 0.4em;background-color: white;position: relative;}#sk-3159d50e-4bc5-4c9d-ba55-b1500e4d2d5b div.sk-label label {font-family: monospace;font-weight: bold;background-color: white;display: inline-block;line-height: 1.2em;}#sk-3159d50e-4bc5-4c9d-ba55-b1500e4d2d5b div.sk-label-container {position: relative;z-index: 2;text-align: center;}#sk-3159d50e-4bc5-4c9d-ba55-b1500e4d2d5b div.sk-container {/* jupyter's `normalize.less` sets `[hidden] { display: none; }` but bootstrap.min.css set `[hidden] { display: none !important; }` so we also need the `!important` here to be able to override the default hidden behavior on the sphinx rendered scikit-learn.org. See: https://github.com/scikit-learn/scikit-learn/issues/21755 */display: inline-block !important;position: relative;}#sk-3159d50e-4bc5-4c9d-ba55-b1500e4d2d5b div.sk-text-repr-fallback {display: none;}</style><div id='sk-3159d50e-4bc5-4c9d-ba55-b1500e4d2d5b' class=\"sk-top-container\"><div class=\"sk-text-repr-fallback\"><pre>InceptionTimeClassifier()</pre><b>Please rerun this cell to show the HTML repr or trust the notebook.</b></div><div class=\"sk-container\" hidden><div class='sk-item'><div class=\"sk-estimator sk-toggleable\"><input class=\"sk-toggleable__control sk-hidden--visually\" id=UUID('4cb02600-478d-4689-821d-b49fc616e9d7') type=\"checkbox\" checked><label for=UUID('4cb02600-478d-4689-821d-b49fc616e9d7') class='sk-toggleable__label sk-toggleable__label-arrow'>InceptionTimeClassifier</label><div class=\"sk-toggleable__content\"><pre>InceptionTimeClassifier()</pre></div></div></div></div></div>"
            ]
          },
          "metadata": {},
          "execution_count": 24
        }
      ]
    },
    {
      "cell_type": "markdown",
      "source": [
        "# Step 4 - Prediction and Performance Analysis"
      ],
      "metadata": {
        "id": "miyb1TEaB1MW"
      }
    },
    {
      "cell_type": "code",
      "source": [
        "# Predict the labels for the test set\n",
        "y_pred = classifier.predict(X_test)"
      ],
      "metadata": {
        "colab": {
          "base_uri": "https://localhost:8080/"
        },
        "id": "2FmxuIF49q0g",
        "outputId": "a9ce039e-f5e6-40f1-ba0c-3f38df4325bb"
      },
      "execution_count": 25,
      "outputs": [
        {
          "output_type": "stream",
          "name": "stdout",
          "text": [
            "1/1 [==============================] - 1s 793ms/step\n"
          ]
        }
      ]
    },
    {
      "cell_type": "code",
      "source": [
        "# Calculate accuracy\n",
        "from sklearn.metrics import accuracy_score\n",
        "accuracy = accuracy_score(y_test, y_pred)\n",
        "print(\"Accuracy:\", accuracy)"
      ],
      "metadata": {
        "colab": {
          "base_uri": "https://localhost:8080/"
        },
        "id": "qef6dbel_BsF",
        "outputId": "ed4fe2b4-4db1-4149-c383-3b085eb089dc"
      },
      "execution_count": 26,
      "outputs": [
        {
          "output_type": "stream",
          "name": "stdout",
          "text": [
            "Accuracy: 0.9\n"
          ]
        }
      ]
    },
    {
      "cell_type": "markdown",
      "source": [
        "The scenario (being the label (y) to be predicted) include:\n",
        "\n",
        "*   Label #1 - 'Sensors_NormalSpeed': use potentiometer with normal conveyor speed.\n",
        "*   Label #2 - 'Sensors_TooSlowOrStop':use potentiometer with conveyor speed too slow or stopped.\n",
        "*   Label #3 - 'Sensors_Oscillate': use potentiometer with conveyor speed up and down illogically.\n",
        "*   Label #4 - 'Sensors_WrongDirection': use potentiometer with conveyor going the reverse direction.\n",
        "*   Label #5 - 'ForcedActuator_Normal': force actuator value with normal conveyor speed.\n",
        "*   Label #6 - 'ForcedActuator_TooSlowOrStop': force actuator value with conveyor speed too slow or stopped.\n",
        "*   Label #7 - 'ForcedActuator_TooFast': force actuator value with conveyor speed too fast.\n",
        "*   Label #8 - 'ForcedActuator_ExtremelyFast': force actuator value with conveyor speed extremely fast.\n",
        "*   Label #9 - 'ForcedActuator_Oscillate': force actuator value with conveyor speed up and down illogically.\n",
        "*   Label #10 - 'ForcedActuator_WrongDirection': force actuator value with conveyor going the reverse direction."
      ],
      "metadata": {
        "id": "HFJHWKzZCRI5"
      }
    },
    {
      "cell_type": "code",
      "source": [
        "# Check classification_report\n",
        "from sklearn.metrics import classification_report\n",
        "\n",
        "report = classification_report(y_test, y_pred, output_dict=True)\n",
        "\n",
        "print(classification_report(y_test, y_pred))\n",
        "\n"
      ],
      "metadata": {
        "colab": {
          "base_uri": "https://localhost:8080/"
        },
        "id": "Q86X6XQjsUsX",
        "outputId": "78221ccb-9fd9-45cd-fdc2-99422366d6ae"
      },
      "execution_count": 27,
      "outputs": [
        {
          "output_type": "stream",
          "name": "stdout",
          "text": [
            "              precision    recall  f1-score   support\n",
            "\n",
            "           1       1.00      1.00      1.00         3\n",
            "           2       0.75      1.00      0.86         3\n",
            "           3       1.00      0.67      0.80         3\n",
            "           4       1.00      1.00      1.00         3\n",
            "           5       0.75      1.00      0.86         3\n",
            "           6       1.00      1.00      1.00         3\n",
            "           7       1.00      1.00      1.00         3\n",
            "           8       1.00      1.00      1.00         3\n",
            "           9       1.00      0.33      0.50         3\n",
            "          10       0.75      1.00      0.86         3\n",
            "\n",
            "    accuracy                           0.90        30\n",
            "   macro avg       0.93      0.90      0.89        30\n",
            "weighted avg       0.93      0.90      0.89        30\n",
            "\n"
          ]
        }
      ]
    },
    {
      "cell_type": "code",
      "source": [
        "# Check confusion matrix\n",
        "from sklearn.metrics import confusion_matrix\n",
        "import matplotlib.pyplot as plt\n",
        "\n",
        "conf_matrix = confusion_matrix(y_test, y_pred)\n",
        "\n",
        "plt.figure(figsize=(10, 8))\n",
        "sns.heatmap(conf_matrix, annot=True, fmt='g', cmap=plt.cm.Blues)\n",
        "plt.xlabel('Predicted label')\n",
        "plt.ylabel('True label')\n",
        "plt.title('Confusion Matrix')\n",
        "plt.show()"
      ],
      "metadata": {
        "colab": {
          "base_uri": "https://localhost:8080/",
          "height": 718
        },
        "id": "Gr5pMoJ891kh",
        "outputId": "d6bac757-90de-4c96-918f-6f2219e745b5"
      },
      "execution_count": 28,
      "outputs": [
        {
          "output_type": "display_data",
          "data": {
            "text/plain": [
              "<Figure size 1000x800 with 2 Axes>"
            ],
            "image/png": "[encoded data removed]"
          },
          "metadata": {}
        }
      ]
    },
    {
      "cell_type": "markdown",
      "source": [
        "# Step 5 - Save and load model"
      ],
      "metadata": {
        "id": "iPpWXLR_BxAv"
      }
    },
    {
      "cell_type": "code",
      "source": [
        "# Save model using pickle\n",
        "import pickle\n",
        "\n",
        "model_filename = '/content/FactoryIO_Incept.pkl'\n",
        "\n",
        "with open(model_filename, 'wb') as file:\n",
        "    pickle.dump(classifier, file)"
      ],
      "metadata": {
        "id": "MQtnF6U9DEya"
      },
      "execution_count": 29,
      "outputs": []
    },
    {
      "cell_type": "markdown",
      "source": [
        "Reminder: download the model from Google Colab file directory."
      ],
      "metadata": {
        "id": "ZpHwwKQYDymv"
      }
    },
    {
      "cell_type": "code",
      "source": [
        "# Load the model\n",
        "with open(model_filename, 'rb') as file:\n",
        "    loaded_model = pickle.load(file)"
      ],
      "metadata": {
        "id": "a4IlLdKdDmCn"
      },
      "execution_count": 30,
      "outputs": []
    },
    {
      "cell_type": "markdown",
      "source": [
        "The End"
      ],
      "metadata": {
        "id": "8j3JApAf96cU"
      }
    }
  ]
}